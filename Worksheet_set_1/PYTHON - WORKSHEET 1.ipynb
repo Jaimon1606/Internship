{
 "cells": [
  {
   "cell_type": "markdown",
   "metadata": {},
   "source": [
    "# Q1 to Q8 have only one correct answer. Choose the correct option to answer your question."
   ]
  },
  {
   "cell_type": "markdown",
   "metadata": {},
   "source": [
    "1. Which of the following operators is used to calculate remainder in a division?\n",
    "A) # B) &\n",
    "C) % D) $\n",
    "\n",
    "Ans:- C"
   ]
  },
  {
   "cell_type": "markdown",
   "metadata": {},
   "source": [
    "2. In python 2//3 is equal to?\n",
    "A) 0.666 B) 0\n",
    "C) 1 D) 0.67\n",
    "\n",
    "Ans:- B"
   ]
  },
  {
   "cell_type": "markdown",
   "metadata": {},
   "source": [
    "3. In python, 6<<2 is equal to?\n",
    "A) 36 B) 10\n",
    "C) 24 D) 45\n",
    "\n",
    "Ans:-C"
   ]
  },
  {
   "cell_type": "markdown",
   "metadata": {},
   "source": [
    "4. In python, 6&2 will give which of the following as output?\n",
    "A) 2 B) True\n",
    "C) False D) 0\n",
    "\n",
    "Ans:-A"
   ]
  },
  {
   "cell_type": "markdown",
   "metadata": {},
   "source": [
    "5. In python, 6|2 will give which of the following as output?\n",
    "A) 2 B) 4\n",
    "C) 0 D) 6\n",
    "\n",
    "Ans:- B"
   ]
  },
  {
   "cell_type": "markdown",
   "metadata": {},
   "source": [
    "6. What does the finally keyword denotes in python?\n",
    "A) It is used to mark the end of the code\n",
    "B) It encloses the lines of code which will be executed if any error occurs while executing the lines of code in \n",
    "the try block.\n",
    "C) the finally block will be executed no matter if the try block raises an error or not.\n",
    "D) None of the above\n",
    "\n",
    "Ans:-C"
   ]
  },
  {
   "cell_type": "markdown",
   "metadata": {},
   "source": [
    "7. What does raise keyword is used for in python?\n",
    "A) It is used to raise an exception. B) It is used to define lambda function\n",
    "C) it's not a keyword in python. D) None of the above\n",
    "\n",
    "Ans:-A"
   ]
  },
  {
   "cell_type": "markdown",
   "metadata": {},
   "source": [
    "8. Which of the following is a common use case of yield keyword in python?\n",
    "A) in defining an iterator B) while defining a lambda function\n",
    "C) in defining a generator D) in for loop.\n",
    "\n",
    "Ans:-C"
   ]
  },
  {
   "cell_type": "markdown",
   "metadata": {},
   "source": [
    "# Q9 and Q10 have multiple correct answers. Choose all the correct options to answer your question"
   ]
  },
  {
   "cell_type": "markdown",
   "metadata": {},
   "source": [
    "9. Which of the following are the valid variable names?\n",
    "A) _abc B) 1abc\n",
    "C) abc2 D) None of the above\n",
    "\n",
    "Ans:- A and C"
   ]
  },
  {
   "cell_type": "markdown",
   "metadata": {},
   "source": [
    "10. Which of the following are the keywords in python?\n",
    "A) yield B) raise\n",
    "C) look-in D) all of the above\n",
    "\n",
    "Ans:-A and B"
   ]
  },
  {
   "cell_type": "markdown",
   "metadata": {},
   "source": [
    "# Q11 to Q15 are programming questions. Answer them in Jupyter Notebook."
   ]
  },
  {
   "cell_type": "raw",
   "metadata": {},
   "source": [
    "11. Write a python program to find the factorial of a number"
   ]
  },
  {
   "cell_type": "code",
   "execution_count": 6,
   "metadata": {},
   "outputs": [
    {
     "name": "stdout",
     "output_type": "stream",
     "text": [
      "The factorial of 5 is 120\n"
     ]
    }
   ],
   "source": [
    "Num = 5\n",
    "Factorial = 1\n",
    "if Num < 0:\n",
    "    print(\"Factorial does not exist for negative numbers\")\n",
    "elif Num == 0:\n",
    "    print(\"The factorial of 0 is 1\")\n",
    "else:\n",
    "    for i in range(1, Num + 1):\n",
    "        Factorial = Factorial * i\n",
    "    print(\"The factorial of\",Num,\"is\",Factorial)"
   ]
  },
  {
   "cell_type": "raw",
   "metadata": {},
   "source": [
    "12. Write a python program to find whether a number is prime or composite"
   ]
  },
  {
   "cell_type": "code",
   "execution_count": 7,
   "metadata": {},
   "outputs": [
    {
     "name": "stdout",
     "output_type": "stream",
     "text": [
      "enter the number15\n",
      "Number is composite\n"
     ]
    }
   ],
   "source": [
    "n=int(input('enter the number'))\n",
    "if n==0 or n==1:\n",
    "    print(\"neither prime nor composite\")\n",
    "else:\n",
    "    k=[]\n",
    "    for i in range(1,n):\n",
    "        if n%i==0:\n",
    "            k.append(i)\n",
    "    if len(k)<=2:\n",
    "        print(\"Number is prime\")\n",
    "        \n",
    "    else :\n",
    "        print(\"Number is composite\")"
   ]
  },
  {
   "cell_type": "raw",
   "metadata": {},
   "source": [
    "13. Write a python program to check whether a given string is palindrome or not."
   ]
  },
  {
   "cell_type": "code",
   "execution_count": 8,
   "metadata": {},
   "outputs": [
    {
     "name": "stdout",
     "output_type": "stream",
     "text": [
      "Enter the string12\n",
      "the string is not palindrome\n"
     ]
    }
   ],
   "source": [
    "string=input(\"Enter the string\")\n",
    "rev_string=\"\"\n",
    "for i in range(1,len(string)+1):\n",
    "    rev_string=rev_string+string.lower()[-i]\n",
    "if rev_string==string:\n",
    "    print(\"the string is palindrome\")\n",
    "else :\n",
    "    print(\"the string is not palindrome\")"
   ]
  },
  {
   "cell_type": "raw",
   "metadata": {},
   "source": [
    "14. Write a Python program to get the third side of right-angled triangle from two given sides"
   ]
  },
  {
   "cell_type": "code",
   "execution_count": 9,
   "metadata": {},
   "outputs": [
    {
     "name": "stdout",
     "output_type": "stream",
     "text": [
      "enter the base of the right angled triangle10\n",
      "enter the perpendicular of the right angled triangle12\n",
      "the length of hypotenuse is  15.620499351813308\n"
     ]
    }
   ],
   "source": [
    "import math\n",
    "a=int(input(\"enter the base of the right angled triangle\"))\n",
    "b=int(input(\"enter the perpendicular of the right angled triangle\"))\n",
    "print(\"the length of hypotenuse is \",math.sqrt(a**2+b**2))"
   ]
  },
  {
   "cell_type": "raw",
   "metadata": {},
   "source": [
    "15. Write a python program to print the frequency of each of the characters present in a given string."
   ]
  },
  {
   "cell_type": "code",
   "execution_count": 10,
   "metadata": {},
   "outputs": [
    {
     "name": "stdout",
     "output_type": "stream",
     "text": [
      "Enter the string12\n",
      " The frequencies of characters in the string are {'1': 1, '2': 1}\n"
     ]
    }
   ],
   "source": [
    "string=input(\"Enter the string\")\n",
    "freq=dict()\n",
    "for i in string :\n",
    "    if i in freq.keys():\n",
    "        freq[i]=freq[i]+1\n",
    "    else :\n",
    "        freq[i]=1\n",
    "print(\" The frequencies of characters in the string are\", freq)"
   ]
  },
  {
   "cell_type": "code",
   "execution_count": null,
   "metadata": {},
   "outputs": [],
   "source": []
  },
  {
   "cell_type": "code",
   "execution_count": null,
   "metadata": {},
   "outputs": [],
   "source": []
  },
  {
   "cell_type": "code",
   "execution_count": null,
   "metadata": {},
   "outputs": [],
   "source": []
  }
 ],
 "metadata": {
  "kernelspec": {
   "display_name": "Python 3",
   "language": "python",
   "name": "python3"
  },
  "language_info": {
   "codemirror_mode": {
    "name": "ipython",
    "version": 3
   },
   "file_extension": ".py",
   "mimetype": "text/x-python",
   "name": "python",
   "nbconvert_exporter": "python",
   "pygments_lexer": "ipython3",
   "version": "3.8.5"
  }
 },
 "nbformat": 4,
 "nbformat_minor": 4
}
